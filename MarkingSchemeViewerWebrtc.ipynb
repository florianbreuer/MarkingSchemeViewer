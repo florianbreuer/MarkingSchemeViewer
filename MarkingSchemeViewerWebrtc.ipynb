{
 "cells": [
  {
   "cell_type": "markdown",
   "id": "050530e0",
   "metadata": {},
   "source": [
    "## Squid Marking Scheme Viewer ##\n",
    "\n",
    "This notebook reads the variant number of the written answer question from a quiz paper (via the ArUco tag) and shows you the corresponding marking scheme. You'll need a webcam (ideally an external one on a little tripod to point at your desk) and the correct `.json` file encoding the written answer question variants and their solutions.\n",
    "\n",
    "#### Installation ####\n",
    "No installation required, this is meant to run in Binder. Just execute the following code cell.\n",
    "\n",
    "Copyright (c) 2022 by Florian Breuer (florian.breuer@newcastle.edu.au) with special thanks to Marcus Chijoff."
   ]
  },
  {
   "cell_type": "code",
   "execution_count": 4,
   "id": "e1208b3b",
   "metadata": {},
   "outputs": [
    {
     "data": {
      "application/vnd.jupyter.widget-view+json": {
       "model_id": "",
       "version_major": 2,
       "version_minor": 0
      },
      "text/plain": [
       "Dropdown(description='Marking Scheme:', options=('CA2_TaylorPoly_WAQ.json',), value='CA2_TaylorPoly_WAQ.json')"
      ]
     },
     "metadata": {},
     "output_type": "display_data"
    },
    {
     "data": {
      "application/vnd.jupyter.widget-view+json": {
       "model_id": "",
       "version_major": 2,
       "version_minor": 0
      },
      "text/plain": [
       "CameraStream(constraints={'audio': False, 'video': {'facingMode': 'environment'}})"
      ]
     },
     "metadata": {},
     "output_type": "display_data"
    },
    {
     "data": {
      "application/vnd.jupyter.widget-view+json": {
       "model_id": "",
       "version_major": 2,
       "version_minor": 0
      },
      "text/plain": [
       "HBox(children=(Label(value='Tag number:'), Dropdown(description='Variant', options=(('None', 0),), value=0)))"
      ]
     },
     "metadata": {},
     "output_type": "display_data"
    },
    {
     "data": {
      "application/vnd.jupyter.widget-view+json": {
       "model_id": "",
       "version_major": 2,
       "version_minor": 0
      },
      "text/plain": [
       "HTMLMath(value='')"
      ]
     },
     "metadata": {},
     "output_type": "display_data"
    },
    {
     "data": {
      "application/vnd.jupyter.widget-view+json": {
       "model_id": "",
       "version_major": 2,
       "version_minor": 0
      },
      "text/plain": [
       "HTMLMath(value='<b>Grading Scheme:</b><br> \\nMark the grading bubble on the Answer Sheet\\nwith the grade lette…"
      ]
     },
     "metadata": {},
     "output_type": "display_data"
    },
    {
     "data": {
      "application/vnd.jupyter.widget-view+json": {
       "model_id": "",
       "version_major": 2,
       "version_minor": 0
      },
      "text/plain": [
       "Button(description='Quit', style=ButtonStyle())"
      ]
     },
     "metadata": {},
     "output_type": "display_data"
    },
    {
     "name": "stdout",
     "output_type": "stream",
     "text": [
      "Good bye!\n"
     ]
    }
   ],
   "source": [
    "# Built-in imports:\n",
    "import io\n",
    "import json\n",
    "import os\n",
    "import threading\n",
    "from time import sleep\n",
    "\n",
    "# External imports:\n",
    "import cv2\n",
    "from ipywebrtc import CameraStream, ImageRecorder\n",
    "import ipywidgets as widgets\n",
    "import numpy as np\n",
    "import PIL.Image\n",
    "import PIL.ImageFilter\n",
    "\n",
    "# Globals:\n",
    "pool = []\n",
    "num_variants = 0\n",
    "quitnow = False\n",
    "v = 0  # current variant number\n",
    "\n",
    "# Get list of json files in current directory\n",
    "json_files = [x for x in os.listdir() if x.endswith('.json')]  \n",
    "if len(json_files) > 0:\n",
    "    first_file = json_files[0]\n",
    "else:\n",
    "    first_file = 'None found!'\n",
    "    \n",
    "# Set up ArUco detector\n",
    "aruco_variant = cv2.aruco.DICT_5X5_100\n",
    "aruco = cv2.aruco.Dictionary_get(aruco_variant)\n",
    "arucoParams = cv2.aruco.DetectorParameters_create()\n",
    "\n",
    "# Set up camera\n",
    "# camera = CameraStream(constraints=\n",
    "#                       {'facing_mode': 'user',\n",
    "#                        'audio': False,\n",
    "#                        'video': { 'width': 640, 'height': 480 }\n",
    "#                        })\n",
    "camera = CameraStream.facing_environment(audio=False)\n",
    "image_recorder = ImageRecorder(stream=camera)\n",
    "image_recorder.autosave = False\n",
    "image_recorder.recording = True\n",
    "    \n",
    "# Define widgets:\n",
    "MarkingScheme = widgets.Dropdown(options = json_files,\n",
    "                                 description = 'Marking Scheme:',\n",
    "                                 value = first_file)\n",
    "LoadButton = widgets.Button(description = 'Load')\n",
    "VariantDisplay = widgets.Label(value='Tag number:')\n",
    "VariantSelector = widgets.Dropdown(options=[('None', 0)], \n",
    "                                   value=0, \n",
    "                                   description='Variant')\n",
    "SolutionDisplay = widgets.HTMLMath(value='')\n",
    "RubricDisplay = widgets.HTMLMath(value=r'''<b>Grading Scheme:</b><br> \n",
    "Mark the grading bubble on the Answer Sheet\n",
    "with the grade letter appropriate to the student's solution:<br><br>\n",
    "<ol style=\"list-style-type:upper-alpha\">\n",
    "    <li> The student demonstrates a good understanding and obtains the correct answer [3 marks]. </li>\n",
    "    <li> The student demonstrates a good understanding of how to do the problem\n",
    "                (some minor errors permitted) [2 marks]. </li>\n",
    "    <li> The student demonstrates a partial understanding of how to do the problem [1 mark].</li>\n",
    "    <li> The solution is missing, completely wrong, or shows insufficient steps to\n",
    "                 convince you that they obtained the answer themselves [0 marks]. </li>\n",
    "</ol>''')\n",
    "CloseButton = widgets.Button(description='Quit')\n",
    "# ReadButton = widgets.Button(description='Read')\n",
    "\n",
    "# RecorderDisplay = widgets.Image()\n",
    "\n",
    "# Functions:\n",
    "def load_marking_scheme(b):\n",
    "    '''Load marking scheme from json file'''\n",
    "    global pool\n",
    "    global num_variants\n",
    "    global v\n",
    "    filename = MarkingScheme.value\n",
    "    if filename != 'None found!':\n",
    "        with open(filename, 'r') as f:\n",
    "            pool = json.load(f)\n",
    "        num_variants = len(pool[\"L\"])\n",
    "        VariantSelector.options = [('None', 0)] + list((f'Variant {i}', i) for i in range(1, num_variants + 1))\n",
    "        if v >= 0 and v <= num_variants:\n",
    "            VariantSelector.value = v\n",
    "        else:\n",
    "            VariantSelector.value = 0\n",
    "    else:\n",
    "        print('No json file to load')\n",
    "        num_variants = 0\n",
    "        VariantSelector.options = [('None', 0)]\n",
    "        VariantSelector.value = 0\n",
    "        v = 0\n",
    "\n",
    "def close_camera(b):\n",
    "    '''close camera and quit'''\n",
    "    global quitnow\n",
    "    camera.close_all()\n",
    "#     image_recorder.close_all()\n",
    "    quitnow = True\n",
    "    \n",
    "def blip(b):\n",
    "    '''blip image recorder, causing it to grab a frame from camera'''\n",
    "#     image_recorder.recording = False\n",
    "    image_recorder.recording = True    \n",
    "#     RecorderDisplay.value = image_recorder.image.value\n",
    "    \n",
    "def read_variant(b):\n",
    "    '''Read variant number from ArUco tag'''\n",
    "    global v\n",
    "    im_in = PIL.Image.open(io.BytesIO(image_recorder.image.value))\n",
    "    im_array = np.array(im_in)[...,:3] # no alpha\n",
    "    (corners, ids, rejected) = cv2.aruco.detectMarkers(im_array, aruco, parameters=arucoParams)\n",
    "    if ids is not None:\n",
    "        v = int(ids[0])\n",
    "        if v >= 0 and v <= num_variants:\n",
    "            VariantSelector.value = v\n",
    "            update_solution(0)\n",
    "        else:\n",
    "            VariantSelector.value = 0\n",
    "        VariantDisplay.value = f'Tag number: {v}'\n",
    "\n",
    "def update_solution(b):\n",
    "    '''show solution to current variant'''\n",
    "    if v != 0:\n",
    "        Q = pool['L'][v-1]\n",
    "        SolutionDisplay.value = f'<b>Question</b> (variant {Q[\"variant_number\"]})<br> {Q[\"question_text\"]}' +\\\n",
    "                        f'<br><b>Solution.</b><br> {Q[\"solution_text\"]}'\n",
    "        \n",
    "def select_variant(b):\n",
    "    '''user has selected a different variant'''\n",
    "    global v\n",
    "    v = VariantSelector.value\n",
    "    VariantDisplay.value = f'Variant: {v}'\n",
    "    update_solution(0)\n",
    "    \n",
    "# Bind widget behaviour\n",
    "CloseButton.on_click(close_camera)\n",
    "# ReadButton.on_click(blip)\n",
    "# LoadButton.on_click(load_marking_scheme)\n",
    "image_recorder.image.observe(read_variant, 'value')\n",
    "VariantSelector.observe(select_variant, 'value')\n",
    "MarkingScheme.observe(load_marking_scheme, 'value')\n",
    "\n",
    "# Display widgets\n",
    "# display(widgets.HBox([MarkingScheme, LoadButton]))\n",
    "display(MarkingScheme)\n",
    "display(camera)\n",
    "# display(RecorderDisplay)\n",
    "# display(ReadButton)\n",
    "display(widgets.HBox([VariantDisplay, VariantSelector]))\n",
    "display(SolutionDisplay)\n",
    "display(RubricDisplay)\n",
    "display(CloseButton)\n",
    "\n",
    "load_marking_scheme(0)\n",
    "\n",
    "# Finally, set up a ticker that regularly blips the image_recorder\n",
    "def ticker():\n",
    "    global quitnow\n",
    "    while not quitnow:\n",
    "        blip(0)\n",
    "        sleep(1.5)\n",
    "    print('Good bye!')\n",
    "thread = threading.Thread(target=ticker)\n",
    "thread.start()\n",
    "\n"
   ]
  },
  {
   "cell_type": "code",
   "execution_count": null,
   "id": "cbd8d7a0",
   "metadata": {},
   "outputs": [],
   "source": []
  }
 ],
 "metadata": {
  "kernelspec": {
   "display_name": "Python 3 (ipykernel)",
   "language": "python",
   "name": "python3"
  },
  "language_info": {
   "codemirror_mode": {
    "name": "ipython",
    "version": 3
   },
   "file_extension": ".py",
   "mimetype": "text/x-python",
   "name": "python",
   "nbconvert_exporter": "python",
   "pygments_lexer": "ipython3",
   "version": "3.9.10"
  }
 },
 "nbformat": 4,
 "nbformat_minor": 5
}
