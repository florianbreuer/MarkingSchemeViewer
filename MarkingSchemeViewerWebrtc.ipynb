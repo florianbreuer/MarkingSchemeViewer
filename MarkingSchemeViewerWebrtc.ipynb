{
 "cells": [
  {
   "cell_type": "markdown",
   "id": "050530e0",
   "metadata": {},
   "source": [
    "## Squid Marking Scheme Viewer ##\n",
    "\n",
    "This notebook reads the variant number of the written answer question from a quiz paper (via the ArUco tag) and shows you the corresponding marking scheme. You'll need a webcam (ideally an external one on a little tripod to point at your desk) and you need to allow your browser to access your camera.\n",
    "\n",
    "Click on \"Upload marking scheme (.json)\" and select the .json file that was emailed to you.\n",
    "\n",
    "If the webcam can see the ArUco tag at the top of the quiz paper, then it will automatically display the marking scheme for that variant. It might take a second or two to read.\n",
    "\n",
    "\n",
    "\n",
    "#### Installation ####\n",
    "No installation required, this is meant to run in Binder. Just execute the following code cell.\n",
    "\n",
    "Copyright (c) 2022 by Florian Breuer (florian.breuer@newcastle.edu.au) with special thanks to Marcus Chijoff."
   ]
  },
  {
   "cell_type": "code",
   "execution_count": 1,
   "id": "cbd8d7a0",
   "metadata": {},
   "outputs": [
    {
     "data": {
      "application/vnd.jupyter.widget-view+json": {
       "model_id": "",
       "version_major": 2,
       "version_minor": 0
      },
      "text/plain": [
       "FileUpload(value={}, accept='.json', description='Upload marking scheme (.json)', layout=Layout(width='50%'))"
      ]
     },
     "metadata": {},
     "output_type": "display_data"
    },
    {
     "data": {
      "application/vnd.jupyter.widget-view+json": {
       "model_id": "",
       "version_major": 2,
       "version_minor": 0
      },
      "text/plain": [
       "CameraStream(constraints={'audio': False, 'video': {'facingMode': 'environment'}})"
      ]
     },
     "metadata": {},
     "output_type": "display_data"
    },
    {
     "data": {
      "application/vnd.jupyter.widget-view+json": {
       "model_id": "",
       "version_major": 2,
       "version_minor": 0
      },
      "text/plain": [
       "HBox(children=(Label(value='Tag number:'), Dropdown(description='Variant', options=(('None', 0),), value=0)))"
      ]
     },
     "metadata": {},
     "output_type": "display_data"
    },
    {
     "data": {
      "application/vnd.jupyter.widget-view+json": {
       "model_id": "",
       "version_major": 2,
       "version_minor": 0
      },
      "text/plain": [
       "HTMLMath(value='')"
      ]
     },
     "metadata": {},
     "output_type": "display_data"
    },
    {
     "data": {
      "application/vnd.jupyter.widget-view+json": {
       "model_id": "",
       "version_major": 2,
       "version_minor": 0
      },
      "text/plain": [
       "HTMLMath(value=\"<b>Grading Scheme:</b><br> \\nMark the grading bubble on the Answer Sheet\\nwith the score appro…"
      ]
     },
     "metadata": {},
     "output_type": "display_data"
    },
    {
     "data": {
      "application/vnd.jupyter.widget-view+json": {
       "model_id": "",
       "version_major": 2,
       "version_minor": 0
      },
      "text/plain": [
       "Button(description='Quit', style=ButtonStyle())"
      ]
     },
     "metadata": {},
     "output_type": "display_data"
    },
    {
     "name": "stdout",
     "output_type": "stream",
     "text": [
      "Good bye!\n"
     ]
    }
   ],
   "source": [
    "# Built-in imports:\n",
    "import io\n",
    "import json\n",
    "import os\n",
    "import threading\n",
    "from time import sleep\n",
    "\n",
    "# External imports:\n",
    "import cv2\n",
    "from ipywebrtc import CameraStream, ImageRecorder\n",
    "import ipywidgets as widgets\n",
    "import numpy as np\n",
    "import PIL.Image\n",
    "# import PIL.ImageFilter\n",
    "\n",
    "# Globals:\n",
    "pool = []\n",
    "num_variants = 0\n",
    "quitnow = False\n",
    "v = 0  # current variant number\n",
    "    \n",
    "# Set up ArUco detector\n",
    "aruco_variant = cv2.aruco.DICT_5X5_100\n",
    "aruco = cv2.aruco.Dictionary_get(aruco_variant)\n",
    "arucoParams = cv2.aruco.DetectorParameters_create()\n",
    "\n",
    "camera = CameraStream.facing_environment(audio=False)\n",
    "image_recorder = ImageRecorder(stream=camera)\n",
    "image_recorder.autosave = False\n",
    "image_recorder.recording = True\n",
    "    \n",
    "# Define widgets:\n",
    "File = widgets.FileUpload(accept='.json', \n",
    "                          multiple=False,\n",
    "                          description='Upload marking scheme (.json)',\n",
    "                          layout={'width' : '50%'}\n",
    "                         )\n",
    "\n",
    "VariantDisplay = widgets.Label(value='Tag number:')\n",
    "VariantSelector = widgets.Dropdown(options=[('None', 0)], \n",
    "                                   value=0, \n",
    "                                   description='Variant')\n",
    "SolutionDisplay = widgets.HTMLMath(value='')\n",
    "RubricDisplay = widgets.HTMLMath(value=r'''<b>Grading Scheme:</b><br> \n",
    "Mark the grading bubble on the Answer Sheet\n",
    "with the score appropriate to the student's solution:<br><br>\n",
    "<ul>\n",
    "    <li> <b>3 marks:</b> The student demonstrates a good understanding and obtains the correct answer. </li>\n",
    "    <li> <b>2 marks:</b> The student demonstrates a good understanding of how to do the problem\n",
    "                (some minor errors permitted). </li>\n",
    "    <li> <b>1 mark:</b> The student demonstrates a partial understanding of how to do the problem.</li>\n",
    "    <li> <b>0 marks:</b> The solution is missing, completely wrong, or shows insufficient steps to\n",
    "                 convince you that they obtained the answer themselves. </li>\n",
    "</ul>''')\n",
    "CloseButton = widgets.Button(description='Quit')\n",
    "\n",
    "# Functions:\n",
    "def load_json(b):\n",
    "    global pool\n",
    "    global v\n",
    "    global num_variants\n",
    "    pool = json.loads(File.data[-1])\n",
    "    num_variants = len(pool[\"L\"])\n",
    "    VariantSelector.options = [('None', 0)] + list((f'Variant {i}', i) for i in range(1, num_variants + 1))\n",
    "    if v >= 0 and v <= num_variants:\n",
    "        VariantSelector.value = v\n",
    "        update_solution(0)\n",
    "    else:\n",
    "        VariantSelector.value = 0\n",
    "\n",
    "def close_camera(b):\n",
    "    '''close camera and quit'''\n",
    "    global quitnow\n",
    "    camera.close_all()  # this kills all widgets!\n",
    "    quitnow = True\n",
    "    \n",
    "def blip(b):\n",
    "    '''blip image recorder, causing it to grab a frame from camera'''\n",
    "    image_recorder.recording = True  \n",
    "    \n",
    "def read_variant(b):\n",
    "    '''Read variant number from ArUco tag'''\n",
    "    global v\n",
    "    im_in = PIL.Image.open(io.BytesIO(image_recorder.image.value))\n",
    "    im_array = np.array(im_in)[...,:3] # no alpha\n",
    "    (corners, ids, rejected) = cv2.aruco.detectMarkers(im_array, aruco, parameters=arucoParams)\n",
    "    if ids is not None:\n",
    "        v = int(ids[0])\n",
    "        if v >= 0 and v <= num_variants:\n",
    "            VariantSelector.value = v\n",
    "            update_solution(0)\n",
    "        else:\n",
    "            VariantSelector.value = 0\n",
    "        VariantDisplay.value = f'Tag number: {v}'\n",
    "\n",
    "def update_solution(b):\n",
    "    '''show solution to current variant'''\n",
    "    if v != 0:\n",
    "        Q = pool['L'][v-1]\n",
    "        SolutionDisplay.value = f'<b>Question</b> (variant {Q[\"variant_number\"]})<br> {Q[\"question_text\"]}' +\\\n",
    "                        f'<br><b>Solution.</b><br> {Q[\"solution_text\"]}'\n",
    "        \n",
    "def select_variant(b):\n",
    "    '''user has selected a different variant'''\n",
    "    global v\n",
    "    v = VariantSelector.value\n",
    "    VariantDisplay.value = f'Variant: {v}'\n",
    "    update_solution(0)\n",
    "    \n",
    "# Bind widget behaviour\n",
    "File.observe(load_json, 'value')\n",
    "CloseButton.on_click(close_camera)\n",
    "image_recorder.image.observe(read_variant, 'value')\n",
    "VariantSelector.observe(select_variant, 'value')\n",
    "\n",
    "# Display widgets\n",
    "display(File)\n",
    "display(camera)\n",
    "display(widgets.HBox([VariantDisplay, VariantSelector]))\n",
    "display(SolutionDisplay)\n",
    "display(RubricDisplay)\n",
    "display(CloseButton)\n",
    "\n",
    "# Finally, set up a ticker that regularly blips the image_recorder\n",
    "def ticker():\n",
    "    global quitnow\n",
    "    while not quitnow:\n",
    "        blip(0)\n",
    "        sleep(1.5)\n",
    "    print('Good bye!')\n",
    "thread = threading.Thread(target=ticker)\n",
    "thread.start()\n",
    "\n"
   ]
  },
  {
   "cell_type": "code",
   "execution_count": null,
   "id": "cc247c1e",
   "metadata": {},
   "outputs": [],
   "source": []
  }
 ],
 "metadata": {
  "kernelspec": {
   "display_name": "Python 3 (ipykernel)",
   "language": "python",
   "name": "python3"
  },
  "language_info": {
   "codemirror_mode": {
    "name": "ipython",
    "version": 3
   },
   "file_extension": ".py",
   "mimetype": "text/x-python",
   "name": "python",
   "nbconvert_exporter": "python",
   "pygments_lexer": "ipython3",
   "version": "3.8.3"
  }
 },
 "nbformat": 4,
 "nbformat_minor": 5
}
